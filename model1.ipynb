{
 "cells": [
  {
   "cell_type": "code",
   "execution_count": null,
   "metadata": {},
   "outputs": [],
   "source": [
    "# model1产生结果作为stacking特征供model2学习"
   ]
  },
  {
   "cell_type": "code",
   "execution_count": 1,
   "metadata": {},
   "outputs": [],
   "source": [
    "import pickle,os\n",
    "import pandas as pd\n",
    "import numpy as np\n",
    "from collections import Counter\n",
    "from tqdm import trange\n",
    "from sklearn.model_selection import train_test_split, StratifiedKFold\n",
    "from sklearn.metrics import roc_auc_score\n",
    "from lightgbm import LGBMClassifier\n",
    "from catboost import CatBoostClassifier\n",
    "from sklearn import preprocessing\n",
    "from sklearn.preprocessing import LabelEncoder, MinMaxScaler"
   ]
  },
  {
   "cell_type": "code",
   "execution_count": 2,
   "metadata": {},
   "outputs": [
    {
     "name": "stderr",
     "output_type": "stream",
     "text": [
      "C:\\Users\\Dell\\anaconda3\\lib\\site-packages\\IPython\\core\\interactiveshell.py:3063: DtypeWarning: Columns (5) have mixed types.Specify dtype option on import or set low_memory=False.\n",
      "  interactivity=interactivity, compiler=compiler, result=result)\n"
     ]
    }
   ],
   "source": [
    "# 数据读取\n",
    "train = pd.read_csv('./data/train_stage2_update_20200320.csv')\n",
    "train_y = pd.read_csv('./data/train_label.csv').Label\n",
    "test = pd.read_csv('./data/test_stage2_update_20200320.csv')\n",
    "train['label'] = train_y\n",
    "data = train.append(test)"
   ]
  },
  {
   "cell_type": "code",
   "execution_count": 3,
   "metadata": {},
   "outputs": [],
   "source": [
    "# 税务特征 object特征预处理\n",
    "data[\"经营范围\"] = data[\"经营范围\"].apply(lambda x: x.count(\",\") + 1)\n",
    "data['邮政编码'] = data['邮政编码'].apply(lambda x: str(x).strip(\".0\"))\n",
    "data[\"是否全资\"] = data['注册资本'] >= data['投资总额']\n",
    "data[\"企业缴税\"] = np.sum(data[['增值税', '企业所得税', '印花税', '城建税', \"教育费\"]], axis=1)\n",
    "data[\"增值税/企业缴税\"] = data[\"增值税\"] / data[\"企业缴税\"]\n",
    "data[\"企业所得税/企业缴税\"] = data[\"企业所得税\"] / data[\"企业缴税\"]\n",
    "data[\"印花税/企业缴税\"] = data[\"印花税\"] / data[\"企业缴税\"]\n",
    "data[\"教育费/企业缴税\"] = data[\"教育费\"] / data[\"企业缴税\"]\n",
    "data[\"城建税/企业缴税\"] = data[\"城建税\"] / data[\"企业缴税\"]"
   ]
  },
  {
   "cell_type": "code",
   "execution_count": 4,
   "metadata": {},
   "outputs": [],
   "source": [
    "# 业务特征 年初年末变化\n",
    "data['年度参保总额/企业缴税'] = data['年度参保总额']/data[\"企业缴税\"]\n",
    "data['企业缴税/经营范围'] = data[\"企业缴税\"]/data['经营范围']\n",
    "data['投资总额/企业缴税'] = data['投资总额']/data[\"企业缴税\"]\n",
    "\n",
    "data['货币资金变化'] = data['货币资金_年末数']-data['货币资金_年初数']\n",
    "data['流动资产合计变化'] = data['流动资产合计_年末数'] - data['流动资产合计_年初数']\n",
    "data['其他应收款变化'] = data['其他应收款_年末数'] - data['其他应收款_年初数']\n",
    "data['固定资产合计变化'] = data['固定资产合计_年末数'] - data['固定资产合计_年初数']\n",
    "data['未分配利润变化'] = data['未分配利润_年末数'] - data['未分配利润_年初数']\n",
    "data['非流动资产合计变化'] = data['非流动资产合计_年末数'] - data['非流动资产合计_年初数']\n",
    "data['短期借款变化'] = data['短期借款_年末数'] - data['短期借款_年初数']\n",
    "data['应交税费变化'] = data['应交税费_年末数'] - data['应交税费_年初数']\n",
    "data['负债合计变化'] = data['负债合计_年末数'] - data['负债合计_年初数']\n",
    "data['其他应付款变化'] = data['其他应付款_年末数'] - data['其他应付款_年初数']\n",
    "data['负债和所有者权益总计变化'] = data['负债和所有者权益总计_年末数'] - data['负债和所有者权益总计_年初数']\n",
    "data['所有者权益合计变化'] = data['所有者权益合计_年末数'] - data['所有者权益合计_年初数']\n",
    "data['其他流动负债变化'] = data['其他流动负债_年末数'] - data['其他流动负债_年初数']\n",
    "data['流动负债合计变化'] = data['流动负债合计_年末数'] - data['流动负债合计_年初数']\n",
    "data['存货变化'] = data['存货_年末数'] - data['存货_年初数']\n",
    "data['资产总计变化'] = data['资产总计_年末数'] - data['资产总计_年初数']\n",
    "data['预收款项变化'] = data['预收款项_年末数'] - data['预收款项_年初数']"
   ]
  },
  {
   "cell_type": "code",
   "execution_count": 5,
   "metadata": {},
   "outputs": [],
   "source": [
    "train = data[:train.shape[0]]\n",
    "test = data[train.shape[0]:]"
   ]
  },
  {
   "cell_type": "code",
   "execution_count": 6,
   "metadata": {},
   "outputs": [],
   "source": [
    "# w2v对金额特征进行embedding，实现特殊数字聚类效果。\n",
    "# 该场景下结合特征缺失程度进行原始特征筛选，整体效果一般\n",
    "num_col = ['企业所得税','城建税','增值税','印花税','教育费','年度参保总额',\n",
    "            '货币资金_年末数','注册资本']\n",
    "for col in num_col:\n",
    "    df = pd.read_csv('./w2v/%s.csv' % col)\n",
    "    train = train.merge(df, on=col, how='left')\n",
    "    test = test.merge(df, on=col, how='left')\n",
    "data = train.append(test)"
   ]
  },
  {
   "cell_type": "code",
   "execution_count": 7,
   "metadata": {},
   "outputs": [
    {
     "name": "stdout",
     "output_type": "stream",
     "text": [
      "480\n",
      "284\n"
     ]
    }
   ],
   "source": [
    "# 特征筛选：去除不可使用特征，同时结合特征缺失情况和nunique进行无效特征删除\n",
    "feat0 = list(set(data.columns)-set(data.select_dtypes(object))-set(['label','ID','pred']))\n",
    "remove_col = []\n",
    "for col in feat0:\n",
    "    if (data[col].nunique() < 2) or (data[col].isnull().sum()/data.shape[0] > 0.95):\n",
    "        remove_col.append(col)\n",
    "print(len(remove_col))\n",
    "feat0 = list(set(feat0) - set(remove_col))\n",
    "print(len(feat0))"
   ]
  },
  {
   "cell_type": "code",
   "execution_count": 8,
   "metadata": {},
   "outputs": [],
   "source": [
    "train = train[feat0].values\n",
    "test = test[feat0].values"
   ]
  },
  {
   "cell_type": "code",
   "execution_count": 9,
   "metadata": {},
   "outputs": [],
   "source": [
    "test_df = pd.read_csv('./data/test_stage2_update_20200320.csv')\n",
    "train_df = pd.read_csv('./data/train_stage2_update_20200320.csv')"
   ]
  },
  {
   "cell_type": "code",
   "execution_count": 10,
   "metadata": {},
   "outputs": [
    {
     "name": "stdout",
     "output_type": "stream",
     "text": [
      "0_training\n",
      "Training until validation scores don't improve for 50 rounds\n",
      "Early stopping, best iteration is:\n",
      "[350]\tvalid_0's binary_logloss: 0.138335\n",
      "1_training\n",
      "Training until validation scores don't improve for 50 rounds\n",
      "Early stopping, best iteration is:\n",
      "[361]\tvalid_0's binary_logloss: 0.145866\n",
      "2_training\n",
      "Training until validation scores don't improve for 50 rounds\n",
      "Early stopping, best iteration is:\n",
      "[234]\tvalid_0's binary_logloss: 0.156608\n",
      "3_training\n",
      "Training until validation scores don't improve for 50 rounds\n",
      "Early stopping, best iteration is:\n",
      "[330]\tvalid_0's binary_logloss: 0.143011\n",
      "4_training\n",
      "Training until validation scores don't improve for 50 rounds\n",
      "Early stopping, best iteration is:\n",
      "[348]\tvalid_0's binary_logloss: 0.142063\n",
      "score: 0.14517659595878013 [0.13833474513304564, 0.14586580616775105, 0.1566084703111654, 0.1430113528262853, 0.14206260535565327]\n"
     ]
    }
   ],
   "source": [
    "# 借助lgb完成二分类，得到训练集和测试集的标签预测结果，用于stacking，供主模型使用\n",
    "kf = StratifiedKFold(5,True,random_state=1)\n",
    "prob = np.zeros(train.shape[0])\n",
    "test_prob = np.zeros(test.shape[0])\n",
    "test_data = test\n",
    "valid_score = []\n",
    "for idx, (train_index, valid_index) in enumerate(kf.split(train, train_y)):\n",
    "    print(str(idx) + '_training')\n",
    "    train_data = train[train_index]\n",
    "    valid_data = train[valid_index]\n",
    "    model = LGBMClassifier(n_estimators=1000, learning_rate=0.01, num_leaves=32, \n",
    "                           n_jobs=4, seed=2020,\n",
    "                           reg_alpha=0., reg_lambda=0.01,max_depth=-1,min_child_samples=50,\n",
    "                           subsample=0.7, colsample_bytree=0.45, subsample_freq=5)\n",
    "    model.fit(train_data, train_y[train_index], \n",
    "              eval_set=(valid_data, train_y[valid_index]), early_stopping_rounds=50,verbose=-1)\n",
    "    prob[valid_index] = model.predict_proba(valid_data)[:, 1]\n",
    "    test_prob += model.predict_proba(test_data)[:, 1]/5\n",
    "    valid_score.append(model.best_score_['valid_0']['binary_logloss'])\n",
    "print('score:', np.mean(valid_score), valid_score)\n",
    "train_df['code2_lgb_prob1'] = prob\n",
    "test_df['code2_lgb_prob1'] = test_prob"
   ]
  },
  {
   "cell_type": "code",
   "execution_count": 13,
   "metadata": {},
   "outputs": [],
   "source": [
    "# 将产生的预测结果保存，作为stacking特征\n",
    "train_df[['ID', 'code2_lgb_prob1']].to_csv('./output/train_stacking_code2.csv', index=False)\n",
    "test_df[['ID', 'code2_lgb_prob1']].to_csv('./output/test_stacking_code2.csv', index=False)"
   ]
  },
  {
   "cell_type": "code",
   "execution_count": null,
   "metadata": {},
   "outputs": [],
   "source": []
  }
 ],
 "metadata": {
  "kernelspec": {
   "display_name": "Python 3",
   "language": "python",
   "name": "python3"
  },
  "language_info": {
   "codemirror_mode": {
    "name": "ipython",
    "version": 3
   },
   "file_extension": ".py",
   "mimetype": "text/x-python",
   "name": "python",
   "nbconvert_exporter": "python",
   "pygments_lexer": "ipython3",
   "version": "3.7.6"
  }
 },
 "nbformat": 4,
 "nbformat_minor": 2
}
